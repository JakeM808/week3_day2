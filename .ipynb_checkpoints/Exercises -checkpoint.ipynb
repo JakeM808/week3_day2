{
 "cells": [
  {
   "cell_type": "markdown",
   "metadata": {},
   "source": [
    "#### Exercise 1 - Class Inheritance"
   ]
  },
  {
   "cell_type": "markdown",
   "metadata": {},
   "source": [
    "Create an Employee class that sets an employee's first name, last name, job title, salary, and email. The Employee class should have a class attribute for the raise amount set to 5% (1.05). Create a method that will apply the raise to an employee's salary."
   ]
  },
  {
   "cell_type": "code",
   "execution_count": 261,
   "metadata": {},
   "outputs": [],
   "source": [
    "class Employee:\n",
    "    raise_amount = 1.05\n",
    "    \n",
    "    def __init__(self, first, last, title, salary, number = '8085612122'):\n",
    "        self.first_name = first.title()\n",
    "        self.last_name = last.title()\n",
    "        self.title = title\n",
    "        self.salary = salary\n",
    "        self.number = number\n",
    "        self.full_name = first.title() + ' ' + last.title()\n",
    "        self.email = first[0].lower() +last.lower() + \"@.com\"\n",
    "        \n",
    "  \n",
    "    \n",
    "    def apply_raise(self, raise_amount):\n",
    "        self.salary *= Employee.raise_amount\n",
    "        print(f'congrats {self.first_name} you now make ${self.salary:0.2f}')\n",
    "        \n",
    "        print(Employee.raise_amount)\n"
   ]
  },
  {
   "cell_type": "markdown",
   "metadata": {},
   "source": [
    "Create two more classes that inherit from the Employee class. One for Sales and one for Development. Both of these classes will have the same attributes as the Employee.<br>\n",
    "- For the Sales employees, add a phone number attribute on instantiation using the super method. \n",
    "- Create a method on the Sales class that will Send a Follow Up Email. It should take in a customer name and \"send\" aka print a formatted email \"Dear *customer*, Thank you for your interest in our product. Please let me know if you have any questions. My email is *email* or my phone number is *phone number*. Thanks, *full name*\"\n",
    "- Create a method on the Development class called code that will print out \"*full name* is writing code\"."
   ]
  },
  {
   "cell_type": "markdown",
   "metadata": {},
   "source": [
    "- Create an instance of a Sales Employee with a salary of $50,000.\n",
    "- Send follow up emails to \"Mike O'Neil\" and \"Hannah Stern\"\n",
    "- Give the employee a raise and print the salary"
   ]
  },
  {
   "cell_type": "code",
   "execution_count": 262,
   "metadata": {
    "scrolled": false
   },
   "outputs": [],
   "source": [
    "class Sales(Employee):\n",
    "    def __init__ (self, first, last, title, salary, number):\n",
    "        super().__init__(first, last, title, salary)\n",
    "        self.number = number\n",
    "       \n",
    "      \n",
    "    def send_follow_up(self, customer_name):\n",
    "        print(f\"\"\"\n",
    "        Dear {customer_name} \n",
    "        Thank your for your interest in our product. Please let me know if you have any questions. My email\\n        is {self.email} or my phone number is {self.number}.\n",
    "        Thanks,\n",
    "            {self.full_name}\"\"\")\n",
    "        \n",
    "class Development(Employee):\n",
    "    def __init__ (self, first, last, title, salary):\n",
    "          super().__init__(first, last, title, salary)\n",
    "\n",
    "    def code(self):\n",
    "        print(f\"{self.full_name} is writing code....\")\n",
    "        "
   ]
  },
  {
   "cell_type": "code",
   "execution_count": 264,
   "metadata": {},
   "outputs": [
    {
     "name": "stdout",
     "output_type": "stream",
     "text": [
      "\n",
      "        Dear Mike O'Neil \n",
      "        Thank your for your interest in our product. Please let me know if you have any questions. My email\n",
      "        is jbless@.com or my phone number is 555555555.\n",
      "        Thanks,\n",
      "            Jah Bless\n",
      "\n",
      "        Dear Hannah Stern \n",
      "        Thank your for your interest in our product. Please let me know if you have any questions. My email\n",
      "        is jbless@.com or my phone number is 555555555.\n",
      "        Thanks,\n",
      "            Jah Bless\n",
      "congrats Jah you now make $525000.00\n",
      "1.05\n"
     ]
    }
   ],
   "source": [
    "sales1 = Sales('Jah', 'Bless', 'Selasiai', 500000, 555555555)\n",
    "Sales.send_follow_up(sales1, \"Mike O'Neil\")\n",
    "Sales.send_follow_up(sales1, \"Hannah Stern\")\n",
    "sales1.apply_raise(sales1)"
   ]
  },
  {
   "cell_type": "code",
   "execution_count": 265,
   "metadata": {},
   "outputs": [
    {
     "name": "stdout",
     "output_type": "stream",
     "text": [
      "John Jacob is writing code....\n",
      "congrats John you now make $105000.00\n",
      "1.05\n"
     ]
    }
   ],
   "source": [
    "dev1 = Development('John', 'Jacob', 'jr-dev', 100000)\n",
    "\n",
    "Development.code(dev1)\n",
    "dev1.apply_raise(dev1)"
   ]
  },
  {
   "cell_type": "markdown",
   "metadata": {},
   "source": [
    "- Create an instance of a Development Employee with a salary of $100,000\n",
    "- Write some code with this employee\n",
    "- Give the employee a raise and print the salary"
   ]
  },
  {
   "cell_type": "code",
   "execution_count": null,
   "metadata": {},
   "outputs": [],
   "source": []
  },
  {
   "cell_type": "markdown",
   "metadata": {},
   "source": [
    "#### Exercise 2 - Importing Modules"
   ]
  },
  {
   "cell_type": "markdown",
   "metadata": {},
   "source": [
    "In VS Code, create a module titled `geometry` and add two functions in there. One that will calculate the area of a circle given a radius. The second will find the hypotenuse of a right angle given the two sides. Import the module or the functions from the module and use it to find the answers to the below questions"
   ]
  },
  {
   "cell_type": "code",
   "execution_count": 275,
   "metadata": {},
   "outputs": [],
   "source": [
    "import geometry\n",
    "# def circle_area(radius):\n",
    "#     return 3.14 * radius ** 2\n",
    "\n",
    "# def get_hypotenuse(a, b):\n",
    "#     return sqrt(a ** 2 + b ** 2)"
   ]
  },
  {
   "cell_type": "markdown",
   "metadata": {},
   "source": [
    "What is the area of a circle with a radius of 7cm?"
   ]
  },
  {
   "cell_type": "code",
   "execution_count": 276,
   "metadata": {},
   "outputs": [
    {
     "ename": "AttributeError",
     "evalue": "module 'geometry' has no attribute 'circle_area'",
     "output_type": "error",
     "traceback": [
      "\u001b[1;31m---------------------------------------------------------------------------\u001b[0m",
      "\u001b[1;31mAttributeError\u001b[0m                            Traceback (most recent call last)",
      "Cell \u001b[1;32mIn[276], line 1\u001b[0m\n\u001b[1;32m----> 1\u001b[0m area \u001b[38;5;241m=\u001b[39m \u001b[43mgeometry\u001b[49m\u001b[38;5;241;43m.\u001b[39;49m\u001b[43mcircle_area\u001b[49m(\u001b[38;5;241m5\u001b[39m)\n\u001b[0;32m      2\u001b[0m \u001b[38;5;28mprint\u001b[39m(\u001b[38;5;124mf\u001b[39m\u001b[38;5;124m\"\u001b[39m\u001b[38;5;124mits \u001b[39m\u001b[38;5;132;01m{\u001b[39;00marea\u001b[38;5;132;01m}\u001b[39;00m\u001b[38;5;124mcm\u001b[39m\u001b[38;5;124m\"\u001b[39m)\n",
      "\u001b[1;31mAttributeError\u001b[0m: module 'geometry' has no attribute 'circle_area'"
     ]
    }
   ],
   "source": [
    "area = geometry.circle_area(5)\n",
    "print(f\"its {area}cm\")"
   ]
  },
  {
   "cell_type": "markdown",
   "metadata": {},
   "source": [
    "What is the hypotenuse of a right angle with sides of 3in and 4in?"
   ]
  },
  {
   "cell_type": "code",
   "execution_count": 274,
   "metadata": {},
   "outputs": [
    {
     "name": "stdout",
     "output_type": "stream",
     "text": [
      "{5.0}\n"
     ]
    }
   ],
   "source": [
    "a = 3\n",
    "b = 4\n",
    "c = geometry.get_hypotenuse(a, b)\n",
    "print({c})\n"
   ]
  },
  {
   "cell_type": "code",
   "execution_count": 181,
   "metadata": {},
   "outputs": [
    {
     "name": "stdout",
     "output_type": "stream",
     "text": [
      "2019\n"
     ]
    }
   ],
   "source": []
  },
  {
   "cell_type": "code",
   "execution_count": null,
   "metadata": {},
   "outputs": [],
   "source": []
  }
 ],
 "metadata": {
  "kernelspec": {
   "display_name": "Python 3 (ipykernel)",
   "language": "python",
   "name": "python3"
  },
  "language_info": {
   "codemirror_mode": {
    "name": "ipython",
    "version": 3
   },
   "file_extension": ".py",
   "mimetype": "text/x-python",
   "name": "python",
   "nbconvert_exporter": "python",
   "pygments_lexer": "ipython3",
   "version": "3.10.9"
  }
 },
 "nbformat": 4,
 "nbformat_minor": 4
}
